{
 "cells": [
  {
   "cell_type": "code",
   "execution_count": 1,
   "metadata": {},
   "outputs": [],
   "source": [
    "import numpy as np\n",
    "from sklearn import metrics\n",
    "from sklearn import preprocessing"
   ]
  },
  {
   "cell_type": "markdown",
   "metadata": {},
   "source": [
    "## Implementing Multilayer Perceptron"
   ]
  },
  {
   "cell_type": "code",
   "execution_count": 10,
   "metadata": {},
   "outputs": [],
   "source": [
    "data = np.loadtxt(\"/Users/3049848/Dropbox/Python Files/Jupyter Files/CSC4007/2022_23/Datasets/diabetes_binary_classification.txt\")\n",
    "\n",
    "# split into inputs and outputs\n",
    "X, y = data[:, :-1], data[:, -1]"
   ]
  },
  {
   "cell_type": "code",
   "execution_count": 5,
   "metadata": {},
   "outputs": [],
   "source": [
    "def step_binary(v):\n",
    "    return 1*(v > 0)"
   ]
  },
  {
   "cell_type": "markdown",
   "metadata": {},
   "source": [
    "Defining NN architecture"
   ]
  },
  {
   "cell_type": "code",
   "execution_count": 7,
   "metadata": {},
   "outputs": [],
   "source": [
    "H_n = 2 # number of neurons in the hidden layer\n",
    "O_n = 1 # number of neurons in the output layer"
   ]
  },
  {
   "cell_type": "markdown",
   "metadata": {},
   "source": [
    "Passing single instance through the network"
   ]
  },
  {
   "cell_type": "code",
   "execution_count": 8,
   "metadata": {},
   "outputs": [],
   "source": [
    "def feedforward(x):\n",
    "    #initialise weights\n",
    "    np.random.seed(0)\n",
    "    w_ih = np.random.uniform(-1,1,[X.shape[1],H_n])\n",
    "    w_ho = np.random.uniform(-1,1,[H_n,O_n])\n",
    "\n",
    "    #initialise bias\n",
    "    b_ih = np.random.uniform(-1,1,[1,H_n])\n",
    "    b_ho = np.random.uniform(-1,1,O_n)\n",
    "    \n",
    "    #calculating input to the hidden layer\n",
    "    in_h = x@w_ih + b_ih\n",
    "    \n",
    "    #calculating output of the hidden layer\n",
    "    out_h = step_binary(in_h)\n",
    "    \n",
    "    #calculating input to the output layer\n",
    "    in_o = out_h@w_ho + b_ho\n",
    "    \n",
    "    #calculating output of the output layer\n",
    "    out_o = step_binary(in_o)\n",
    "\n",
    "    return out_o"
   ]
  },
  {
   "cell_type": "code",
   "execution_count": 11,
   "metadata": {},
   "outputs": [
    {
     "name": "stdout",
     "output_type": "stream",
     "text": [
      "Input:  [6.000 148.000 72.000 35.000 0.000 33.600 0.627 50.000] Output:  [[1]]\n",
      "Input:  [1.000 85.000 66.000 29.000 0.000 26.600 0.351 31.000] Output:  [[1]]\n",
      "Input:  [8.000 183.000 64.000 0.000 0.000 23.300 0.672 32.000] Output:  [[1]]\n",
      "Input:  [1.000 89.000 66.000 23.000 94.000 28.100 0.167 21.000] Output:  [[1]]\n",
      "Input:  [0.000 137.000 40.000 35.000 168.000 43.100 2.288 33.000] Output:  [[0]]\n"
     ]
    }
   ],
   "source": [
    "np.set_printoptions(formatter={'float': lambda x: \"{0:0.3f}\".format(x)}) #print option for numpy array, 3 decimal places only\n",
    "\n",
    "for i in range(5):\n",
    "    print('Input: ', X[i], 'Output: ', feedforward(X[i]))"
   ]
  },
  {
   "cell_type": "code",
   "execution_count": null,
   "metadata": {},
   "outputs": [],
   "source": []
  }
 ],
 "metadata": {
  "kernelspec": {
   "display_name": "Python 3 (ipykernel)",
   "language": "python",
   "name": "python3"
  },
  "language_info": {
   "codemirror_mode": {
    "name": "ipython",
    "version": 3
   },
   "file_extension": ".py",
   "mimetype": "text/x-python",
   "name": "python",
   "nbconvert_exporter": "python",
   "pygments_lexer": "ipython3",
   "version": "3.7.13"
  }
 },
 "nbformat": 4,
 "nbformat_minor": 4
}
