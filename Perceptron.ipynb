{
 "cells": [
  {
   "cell_type": "code",
   "execution_count": 1,
   "metadata": {},
   "outputs": [],
   "source": [
    "import numpy as np\n",
    "from sklearn import metrics"
   ]
  },
  {
   "cell_type": "markdown",
   "metadata": {},
   "source": [
    "## Perceptron"
   ]
  },
  {
   "cell_type": "code",
   "execution_count": 2,
   "metadata": {},
   "outputs": [],
   "source": [
    "X = np.array([[2.5, -3], [-1, 0.5], [0, -1.5]])"
   ]
  },
  {
   "cell_type": "markdown",
   "metadata": {},
   "source": [
    "#### Binary step activation function"
   ]
  },
  {
   "cell_type": "code",
   "execution_count": 8,
   "metadata": {},
   "outputs": [],
   "source": [
    "def step_binary(v):\n",
    "    return 1*(v>0)"
   ]
  },
  {
   "cell_type": "code",
   "execution_count": 9,
   "metadata": {},
   "outputs": [
    {
     "data": {
      "text/plain": [
       "1"
      ]
     },
     "execution_count": 9,
     "metadata": {},
     "output_type": "execute_result"
    }
   ],
   "source": [
    "step_binary(2)"
   ]
  },
  {
   "cell_type": "code",
   "execution_count": 10,
   "metadata": {},
   "outputs": [
    {
     "data": {
      "text/plain": [
       "array([0, 1])"
      ]
     },
     "execution_count": 10,
     "metadata": {},
     "output_type": "execute_result"
    }
   ],
   "source": [
    "step_binary(np.array([-1,1]))"
   ]
  },
  {
   "cell_type": "code",
   "execution_count": 11,
   "metadata": {},
   "outputs": [
    {
     "data": {
      "text/plain": [
       "array([[1, 0],\n",
       "       [0, 1],\n",
       "       [0, 0]])"
      ]
     },
     "execution_count": 11,
     "metadata": {},
     "output_type": "execute_result"
    }
   ],
   "source": [
    "step_binary(X)"
   ]
  },
  {
   "cell_type": "markdown",
   "metadata": {},
   "source": [
    "#### Single Neuron"
   ]
  },
  {
   "cell_type": "code",
   "execution_count": 12,
   "metadata": {},
   "outputs": [],
   "source": [
    "def perceptron(x,w,b):\n",
    "    in_ = x@w + b\n",
    "    out = step_binary(in_)\n",
    "    return out"
   ]
  },
  {
   "cell_type": "markdown",
   "metadata": {},
   "source": [
    "Initializing weights and bias"
   ]
  },
  {
   "cell_type": "code",
   "execution_count": 13,
   "metadata": {},
   "outputs": [],
   "source": [
    "w = np.array([[-0.2],[0.7]])\n",
    "b = 0"
   ]
  },
  {
   "cell_type": "markdown",
   "metadata": {},
   "source": [
    "Running perceptron for a single instance (i.e. the input to the perceptron is a single vector)"
   ]
  },
  {
   "cell_type": "code",
   "execution_count": 14,
   "metadata": {},
   "outputs": [
    {
     "name": "stdout",
     "output_type": "stream",
     "text": [
      "input:  [ 2.5 -3. ] ,output:  [0]\n",
      "input:  [-1.   0.5] ,output:  [1]\n",
      "input:  [ 0.  -1.5] ,output:  [0]\n"
     ]
    }
   ],
   "source": [
    "for i in range(X.shape[0]):\n",
    "    print(\"input: \",X[i], \",output: \", perceptron(X[i], w, b))"
   ]
  },
  {
   "cell_type": "markdown",
   "metadata": {},
   "source": [
    "Running perceptron for a set of instances (batch) - the input to the perceptron is a matrix"
   ]
  },
  {
   "cell_type": "code",
   "execution_count": 15,
   "metadata": {},
   "outputs": [
    {
     "name": "stdout",
     "output_type": "stream",
     "text": [
      "[[0]\n",
      " [1]\n",
      " [0]]\n"
     ]
    }
   ],
   "source": [
    "print(perceptron(X,w,b))"
   ]
  },
  {
   "cell_type": "markdown",
   "metadata": {},
   "source": [
    "## Using bigger datasets"
   ]
  },
  {
   "cell_type": "code",
   "execution_count": 21,
   "metadata": {},
   "outputs": [
    {
     "name": "stdout",
     "output_type": "stream",
     "text": [
      "X shape: (768, 8)\n",
      "y shape: (768,)\n"
     ]
    }
   ],
   "source": [
    "from sklearn import preprocessing\n",
    "data = np.loadtxt(\"diabetes_binary_classification.txt\")\n",
    "\n",
    "# split into inputs and outputs\n",
    "X, y = data[:, :-1], data[:, -1]\n",
    "\n",
    "print (\"X shape:\", X.shape)\n",
    "print (\"y shape:\", y.shape)"
   ]
  },
  {
   "cell_type": "markdown",
   "metadata": {},
   "source": [
    "Initialising parameters from a uniform distribution over [-1, 1)"
   ]
  },
  {
   "cell_type": "code",
   "execution_count": 17,
   "metadata": {},
   "outputs": [],
   "source": [
    "np.random.seed(0)\n",
    "w = np.random.uniform(-1,1,[X.shape[1],1])\n",
    "b = np.random.uniform(-1,1,1)"
   ]
  },
  {
   "cell_type": "code",
   "execution_count": 18,
   "metadata": {},
   "outputs": [
    {
     "data": {
      "text/plain": [
       "array([[ 0.09762701],\n",
       "       [ 0.43037873],\n",
       "       [ 0.20552675],\n",
       "       [ 0.08976637],\n",
       "       [-0.1526904 ],\n",
       "       [ 0.29178823],\n",
       "       [-0.12482558],\n",
       "       [ 0.783546  ]])"
      ]
     },
     "execution_count": 18,
     "metadata": {},
     "output_type": "execute_result"
    }
   ],
   "source": [
    "w"
   ]
  },
  {
   "cell_type": "markdown",
   "metadata": {},
   "source": [
    "Passing through the network"
   ]
  },
  {
   "cell_type": "code",
   "execution_count": 22,
   "metadata": {},
   "outputs": [
    {
     "name": "stdout",
     "output_type": "stream",
     "text": [
      "(768, 1)\n"
     ]
    }
   ],
   "source": [
    "predictions = perceptron(X,w,b)\n",
    "print(predictions.shape)"
   ]
  },
  {
   "cell_type": "markdown",
   "metadata": {},
   "source": [
    "Evaluating the performance"
   ]
  },
  {
   "cell_type": "code",
   "execution_count": 23,
   "metadata": {},
   "outputs": [
    {
     "name": "stdout",
     "output_type": "stream",
     "text": [
      "MSE:  0.6510416666666666\n",
      "Accuracy: 0.3489583333333333\n",
      "F1: 0.5173745173745173\n"
     ]
    }
   ],
   "source": [
    "y = y.reshape(len(y),1)\n",
    "print('MSE: ', metrics.mean_squared_error(predictions,y))\n",
    "print('Accuracy:', metrics.accuracy_score(predictions,y))\n",
    "print('F1:', metrics.f1_score(predictions,y))"
   ]
  },
  {
   "cell_type": "markdown",
   "metadata": {},
   "source": [
    "## Simple Update Rule"
   ]
  },
  {
   "cell_type": "code",
   "execution_count": 24,
   "metadata": {},
   "outputs": [],
   "source": [
    "def updateRule(X,y,lr):\n",
    "    np.random.seed(0)\n",
    "    w = np.random.uniform(-1,1,[X.shape[1],1])\n",
    "    b = np.random.uniform(-1,1,1)\n",
    "    \n",
    "    for k in range(100):\n",
    "        for i in range(len(X)):\n",
    "            prediction = perceptron(X[i], w, b)\n",
    "            error = y[i]-prediction\n",
    "            w += lr * error * X[i].reshape(len(X[i]),1)\n",
    "            b += lr*error\n",
    "    \n",
    "    #Calculating predictions\n",
    "    predictions = perceptron(X,w, b)\n",
    "    #Calculating error\n",
    "    print('MSE: ', metrics.mean_squared_error(predictions,y))\n",
    "    print('Accuracy:', metrics.accuracy_score(predictions,y))\n",
    "    print('F1:', metrics.f1_score(predictions,y))"
   ]
  },
  {
   "cell_type": "code",
   "execution_count": 25,
   "metadata": {},
   "outputs": [
    {
     "name": "stdout",
     "output_type": "stream",
     "text": [
      "MSE:  0.3424479166666667\n",
      "Accuracy: 0.6575520833333334\n",
      "F1: 0.41942604856512145\n"
     ]
    }
   ],
   "source": [
    "updateRule(X,y,0.05) "
   ]
  },
  {
   "cell_type": "code",
   "execution_count": null,
   "metadata": {},
   "outputs": [],
   "source": []
  }
 ],
 "metadata": {
  "kernelspec": {
   "display_name": "Python 3 (ipykernel)",
   "language": "python",
   "name": "python3"
  },
  "language_info": {
   "codemirror_mode": {
    "name": "ipython",
    "version": 3
   },
   "file_extension": ".py",
   "mimetype": "text/x-python",
   "name": "python",
   "nbconvert_exporter": "python",
   "pygments_lexer": "ipython3",
   "version": "3.7.13"
  }
 },
 "nbformat": 4,
 "nbformat_minor": 4
}
