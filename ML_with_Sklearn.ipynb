{
  "cells": [
    {
      "cell_type": "code",
      "execution_count": 1,
      "metadata": {
        "id": "Xparn7QZZpjl"
      },
      "outputs": [],
      "source": [
        "from sklearn import datasets\n",
        "from sklearn.linear_model import LinearRegression\n",
        "from sklearn.linear_model import Ridge\n",
        "from sklearn.model_selection import train_test_split\n",
        "from sklearn.model_selection import cross_val_score\n",
        "from sklearn.model_selection import KFold\n",
        "from sklearn.metrics import mean_absolute_error\n",
        "from sklearn.metrics import mean_squared_error\n",
        "from sklearn import preprocessing\n",
        "from sklearn import metrics\n",
        "import numpy as np\n",
        "import pandas as pd"
      ]
    },
    {
      "cell_type": "code",
      "execution_count": null,
      "metadata": {
        "id": "_GeO_6cVZpjn"
      },
      "outputs": [],
      "source": [
        "x,y = datasets.load_boston(return_X_y=True)"
      ]
    },
    {
      "cell_type": "code",
      "execution_count": null,
      "metadata": {
        "id": "h17JtTFXZpjn",
        "outputId": "ce3bbdb4-de42-4c18-9c80-ca86c804c804"
      },
      "outputs": [
        {
          "name": "stdout",
          "output_type": "stream",
          "text": [
            "(506, 13)\n",
            "(506,)\n"
          ]
        }
      ],
      "source": [
        "print(x.shape)\n",
        "print(y.shape)"
      ]
    },
    {
      "cell_type": "code",
      "execution_count": null,
      "metadata": {
        "id": "p6-FIcETZpjn"
      },
      "outputs": [],
      "source": [
        "dataset = datasets.load_boston()"
      ]
    },
    {
      "cell_type": "code",
      "execution_count": null,
      "metadata": {
        "id": "hjwnHzmTZpjo"
      },
      "outputs": [],
      "source": [
        "x = dataset.data\n",
        "y = dataset.target"
      ]
    },
    {
      "cell_type": "code",
      "execution_count": null,
      "metadata": {
        "id": "I9bxKPVfZpjo",
        "outputId": "fbd38317-1c99-4611-c09e-b05643a3b2a8"
      },
      "outputs": [
        {
          "name": "stdout",
          "output_type": "stream",
          "text": [
            "(506, 13)\n",
            "(506,)\n"
          ]
        }
      ],
      "source": [
        "print(x.shape)\n",
        "print(y.shape)"
      ]
    },
    {
      "cell_type": "markdown",
      "metadata": {
        "id": "WCsjsHwQZpjo"
      },
      "source": [
        "## Reading data from a local file"
      ]
    },
    {
      "cell_type": "code",
      "execution_count": null,
      "metadata": {
        "id": "Jd5qTsyMZpjp"
      },
      "outputs": [],
      "source": [
        "data1 = np.loadtxt('simpleregression.txt')"
      ]
    },
    {
      "cell_type": "code",
      "execution_count": null,
      "metadata": {
        "id": "JMsmSRZ7Zpjp"
      },
      "outputs": [],
      "source": [
        "x = data1[:,:-1]\n",
        "y = data1[:,-1]"
      ]
    },
    {
      "cell_type": "code",
      "execution_count": null,
      "metadata": {
        "id": "WSCwSyNbZpjq"
      },
      "outputs": [],
      "source": [
        "data2 = pd.read_csv('winequality.csv')"
      ]
    },
    {
      "cell_type": "code",
      "execution_count": null,
      "metadata": {
        "id": "5YYQpZjjZpjq",
        "outputId": "24051b89-3f75-4af0-eb3d-000dbb5608f3"
      },
      "outputs": [
        {
          "data": {
            "text/html": [
              "<div>\n",
              "<style scoped>\n",
              "    .dataframe tbody tr th:only-of-type {\n",
              "        vertical-align: middle;\n",
              "    }\n",
              "\n",
              "    .dataframe tbody tr th {\n",
              "        vertical-align: top;\n",
              "    }\n",
              "\n",
              "    .dataframe thead th {\n",
              "        text-align: right;\n",
              "    }\n",
              "</style>\n",
              "<table border=\"1\" class=\"dataframe\">\n",
              "  <thead>\n",
              "    <tr style=\"text-align: right;\">\n",
              "      <th></th>\n",
              "      <th>fixed acidity</th>\n",
              "      <th>volatile acidity</th>\n",
              "      <th>citric acid</th>\n",
              "      <th>residual sugar</th>\n",
              "      <th>chlorides</th>\n",
              "      <th>free sulfur dioxide</th>\n",
              "      <th>total sulfur dioxide</th>\n",
              "      <th>density</th>\n",
              "      <th>pH</th>\n",
              "      <th>sulphates</th>\n",
              "      <th>alcohol</th>\n",
              "      <th>quality</th>\n",
              "    </tr>\n",
              "  </thead>\n",
              "  <tbody>\n",
              "    <tr>\n",
              "      <th>0</th>\n",
              "      <td>7.4</td>\n",
              "      <td>0.70</td>\n",
              "      <td>0.00</td>\n",
              "      <td>1.9</td>\n",
              "      <td>0.076</td>\n",
              "      <td>11.0</td>\n",
              "      <td>34.0</td>\n",
              "      <td>0.9978</td>\n",
              "      <td>3.51</td>\n",
              "      <td>0.56</td>\n",
              "      <td>9.4</td>\n",
              "      <td>5</td>\n",
              "    </tr>\n",
              "    <tr>\n",
              "      <th>1</th>\n",
              "      <td>7.8</td>\n",
              "      <td>0.88</td>\n",
              "      <td>0.00</td>\n",
              "      <td>2.6</td>\n",
              "      <td>0.098</td>\n",
              "      <td>25.0</td>\n",
              "      <td>67.0</td>\n",
              "      <td>0.9968</td>\n",
              "      <td>3.20</td>\n",
              "      <td>0.68</td>\n",
              "      <td>9.8</td>\n",
              "      <td>5</td>\n",
              "    </tr>\n",
              "    <tr>\n",
              "      <th>2</th>\n",
              "      <td>7.8</td>\n",
              "      <td>0.76</td>\n",
              "      <td>0.04</td>\n",
              "      <td>2.3</td>\n",
              "      <td>0.092</td>\n",
              "      <td>15.0</td>\n",
              "      <td>54.0</td>\n",
              "      <td>0.9970</td>\n",
              "      <td>3.26</td>\n",
              "      <td>0.65</td>\n",
              "      <td>9.8</td>\n",
              "      <td>5</td>\n",
              "    </tr>\n",
              "    <tr>\n",
              "      <th>3</th>\n",
              "      <td>11.2</td>\n",
              "      <td>0.28</td>\n",
              "      <td>0.56</td>\n",
              "      <td>1.9</td>\n",
              "      <td>0.075</td>\n",
              "      <td>17.0</td>\n",
              "      <td>60.0</td>\n",
              "      <td>0.9980</td>\n",
              "      <td>3.16</td>\n",
              "      <td>0.58</td>\n",
              "      <td>9.8</td>\n",
              "      <td>6</td>\n",
              "    </tr>\n",
              "    <tr>\n",
              "      <th>4</th>\n",
              "      <td>7.4</td>\n",
              "      <td>0.70</td>\n",
              "      <td>0.00</td>\n",
              "      <td>1.9</td>\n",
              "      <td>0.076</td>\n",
              "      <td>11.0</td>\n",
              "      <td>34.0</td>\n",
              "      <td>0.9978</td>\n",
              "      <td>3.51</td>\n",
              "      <td>0.56</td>\n",
              "      <td>9.4</td>\n",
              "      <td>5</td>\n",
              "    </tr>\n",
              "  </tbody>\n",
              "</table>\n",
              "</div>"
            ],
            "text/plain": [
              "   fixed acidity  volatile acidity  citric acid  residual sugar  chlorides  \\\n",
              "0            7.4              0.70         0.00             1.9      0.076   \n",
              "1            7.8              0.88         0.00             2.6      0.098   \n",
              "2            7.8              0.76         0.04             2.3      0.092   \n",
              "3           11.2              0.28         0.56             1.9      0.075   \n",
              "4            7.4              0.70         0.00             1.9      0.076   \n",
              "\n",
              "   free sulfur dioxide  total sulfur dioxide  density    pH  sulphates  \\\n",
              "0                 11.0                  34.0   0.9978  3.51       0.56   \n",
              "1                 25.0                  67.0   0.9968  3.20       0.68   \n",
              "2                 15.0                  54.0   0.9970  3.26       0.65   \n",
              "3                 17.0                  60.0   0.9980  3.16       0.58   \n",
              "4                 11.0                  34.0   0.9978  3.51       0.56   \n",
              "\n",
              "   alcohol  quality  \n",
              "0      9.4        5  \n",
              "1      9.8        5  \n",
              "2      9.8        5  \n",
              "3      9.8        6  \n",
              "4      9.4        5  "
            ]
          },
          "execution_count": 42,
          "metadata": {},
          "output_type": "execute_result"
        }
      ],
      "source": [
        "data2.head()"
      ]
    },
    {
      "cell_type": "code",
      "execution_count": null,
      "metadata": {
        "id": "GIVwe2JOZpjq",
        "outputId": "ee3e1614-2e65-4225-ba88-e0b96d75978e"
      },
      "outputs": [
        {
          "data": {
            "text/plain": [
              "array([[ 7.4  ,  0.7  ,  0.   , ...,  3.51 ,  0.56 ,  9.4  ],\n",
              "       [ 7.8  ,  0.88 ,  0.   , ...,  3.2  ,  0.68 ,  9.8  ],\n",
              "       [ 7.8  ,  0.76 ,  0.04 , ...,  3.26 ,  0.65 ,  9.8  ],\n",
              "       ...,\n",
              "       [ 6.3  ,  0.51 ,  0.13 , ...,  3.42 ,  0.75 , 11.   ],\n",
              "       [ 5.9  ,  0.645,  0.12 , ...,  3.57 ,  0.71 , 10.2  ],\n",
              "       [ 6.   ,  0.31 ,  0.47 , ...,  3.39 ,  0.66 , 11.   ]])"
            ]
          },
          "execution_count": 43,
          "metadata": {},
          "output_type": "execute_result"
        }
      ],
      "source": [
        "x = data2.values[:,:-1]\n",
        "x"
      ]
    },
    {
      "cell_type": "code",
      "execution_count": null,
      "metadata": {
        "id": "TRvp-C9lZpjr",
        "outputId": "20fafad6-0578-4988-dd05-361b155939c6"
      },
      "outputs": [
        {
          "data": {
            "text/plain": [
              "array([5., 5., 5., ..., 6., 5., 6.])"
            ]
          },
          "execution_count": 41,
          "metadata": {},
          "output_type": "execute_result"
        }
      ],
      "source": [
        "y = data2.values[:,-1]\n",
        "y"
      ]
    },
    {
      "cell_type": "code",
      "execution_count": null,
      "metadata": {
        "id": "LeLKOlwgZpjr",
        "outputId": "420ef75e-0bd8-48e1-94d1-905d357507a4"
      },
      "outputs": [
        {
          "data": {
            "text/plain": [
              "array([[0.24778761, 0.39726027, 0.        , ..., 0.60629921, 0.13772455,\n",
              "        0.15384615],\n",
              "       [0.28318584, 0.52054795, 0.        , ..., 0.36220472, 0.20958084,\n",
              "        0.21538462],\n",
              "       [0.28318584, 0.43835616, 0.04      , ..., 0.40944882, 0.19161677,\n",
              "        0.21538462],\n",
              "       ...,\n",
              "       [0.15044248, 0.26712329, 0.13      , ..., 0.53543307, 0.25149701,\n",
              "        0.4       ],\n",
              "       [0.11504425, 0.35958904, 0.12      , ..., 0.65354331, 0.22754491,\n",
              "        0.27692308],\n",
              "       [0.12389381, 0.13013699, 0.47      , ..., 0.51181102, 0.19760479,\n",
              "        0.4       ]])"
            ]
          },
          "execution_count": 44,
          "metadata": {},
          "output_type": "execute_result"
        }
      ],
      "source": [
        "x = preprocessing.MinMaxScaler().fit_transform(x)\n",
        "x"
      ]
    },
    {
      "cell_type": "markdown",
      "metadata": {
        "id": "sQa2YSzUZpjr"
      },
      "source": [
        "## Applying ML models with your data"
      ]
    },
    {
      "cell_type": "code",
      "execution_count": null,
      "metadata": {
        "id": "SK00EI7BZpjr"
      },
      "outputs": [],
      "source": [
        "lr = LinearRegression(fit_intercept=True)\n",
        "ridge = Ridge(alpha = 0.5)"
      ]
    },
    {
      "cell_type": "code",
      "execution_count": null,
      "metadata": {
        "id": "QVI4h8_FZpjr"
      },
      "outputs": [],
      "source": [
        "x_train, x_test, y_train, y_test = train_test_split(x,y,test_size=0.5,random_state=0)"
      ]
    },
    {
      "cell_type": "code",
      "execution_count": null,
      "metadata": {
        "id": "mdu3b-pXZpjs",
        "outputId": "47c93c51-90cc-4518-c10f-fb0576d80db6"
      },
      "outputs": [
        {
          "name": "stdout",
          "output_type": "stream",
          "text": [
            "(253, 13)\n",
            "(253, 13)\n",
            "(253,)\n",
            "(253,)\n"
          ]
        }
      ],
      "source": [
        "print(x_train.shape)\n",
        "print(x_test.shape)\n",
        "print(y_train.shape)\n",
        "print(y_test.shape)"
      ]
    },
    {
      "cell_type": "code",
      "execution_count": null,
      "metadata": {
        "id": "sH0C4fwUZpjs",
        "outputId": "6bedc205-6d24-4b31-d0e0-ff6bf4fc2a43"
      },
      "outputs": [
        {
          "data": {
            "text/plain": [
              "Ridge(alpha=0.5)"
            ]
          },
          "execution_count": 26,
          "metadata": {},
          "output_type": "execute_result"
        }
      ],
      "source": [
        "lr.fit(x_train, y_train)\n",
        "ridge.fit(x_train, y_train)"
      ]
    },
    {
      "cell_type": "code",
      "execution_count": null,
      "metadata": {
        "id": "6xx8JriYZpjs",
        "outputId": "3b9f3497-f3e6-44a8-c0e5-091b7d97b3dc"
      },
      "outputs": [
        {
          "name": "stdout",
          "output_type": "stream",
          "text": [
            "[24.70960325 25.12631354 30.76503263 12.41405512 21.29599499 18.9820552\n",
            " 21.41132996 20.67952823 19.00064129 20.20283837  5.56400169 16.92323348\n",
            " 17.51322896  5.16858442 42.95215092 32.9806573  23.36140299 37.62826682\n",
            " 31.09206869 22.89283336 24.57289742 25.81536634 20.26467062 30.79131551\n",
            " 21.95868456 11.79141163 16.88663056 19.19534708 35.40278965 20.65291048\n",
            " 18.68119761 18.36807058 19.23453044 23.58815977 29.06218826 21.12413253\n",
            " 10.68515822 27.15483771 18.39065879 15.3858284  26.49125897 19.99603848\n",
            " 21.88280039 16.08194711 22.40800324 24.76641999 19.58660105 24.79000679\n",
            "  9.59564604 24.21884557 23.12098756 16.80153308 24.24031563 29.42927442\n",
            " 13.851603   21.15932546 20.39800177 14.21419815 15.6911474  22.4954085\n",
            " 17.15556137 21.23238059 33.42098655 31.5832431  18.3631319  33.63873423\n",
            " 19.03143924 18.53466863 19.51152135 22.78181836 23.02677155 24.29954349\n",
            " 31.56802819 29.23584248 27.05755582  4.38763735 36.91142859 23.52551148\n",
            " 26.99615168 19.06117058 28.61936286 19.70539962 20.20018867 38.11656029\n",
            " 39.40739598 23.47651041 24.34561591 17.01880294 27.60036823 16.99061304\n",
            " 15.33754975 13.19649296 24.90225643 31.60663108 22.42863925 19.60953083\n",
            " -0.64366289 25.46305567 16.23810593 16.96768945 25.28964327 22.1171918\n",
            " 33.51340827 21.72885838 27.06963598 23.32508253  6.53517785 16.01002634\n",
            " 22.39096284 29.37384875 35.06042411 12.98474483 19.22307352 20.67316142\n",
            " 10.60642557 23.87099086  4.24995621 20.63914217  9.1923101  46.58112348\n",
            " 31.28548428 12.38719796 16.49617    21.33774693 23.72612379 20.84953682\n",
            " 35.10749259 12.36324576 20.49277748 36.55090503 19.89353268 13.18177854\n",
            " 15.18390616 24.07901599 14.64032547 31.2920766  25.087052   16.20192649\n",
            " 23.78318248  9.10383407 14.7780917  20.7135115  32.65362197 27.88345898\n",
            " 26.12205838 14.6308059  31.7715576  27.2345829  14.40165637  6.90556885\n",
            " 28.94939984 24.71309943  3.32758336 28.45442843 17.44874113 30.30050709\n",
            " 20.81047016 14.65387403 17.09415301 11.36320242  8.73648065 18.72443963\n",
            " 34.65199543 33.11857981 22.32556771 18.68725487 22.60260628 26.71062964\n",
            " 23.07675753 17.64893217 32.61236665 10.76594499 20.01921258 35.39492797\n",
            " 19.49490616 16.02435859 18.42617588 13.58248203 25.47207163 23.86465012\n",
            " 17.17768694 14.44135225 19.41047172 26.24854568 16.40814587 24.57004427\n",
            " 21.67962181 28.07741837 35.45607821 17.46982551 11.98261238 35.00508285\n",
            " 30.73962887 20.56233414 40.40301328 29.98928161 29.24662155 18.09555979\n",
            " 27.36799836 41.30634103 29.57615132 16.1231646  37.9805322  36.03262161\n",
            " 13.26174724 30.93226829 22.50546447 24.05427093 22.22443246 24.97284018\n",
            " 27.47065648 30.45940869 14.91767771 26.42830483 23.26040438 12.96248113\n",
            " 13.38567722 25.36224044 20.01323717 30.55186654 11.5422362  23.45688674\n",
            " 16.08697203 17.92203555 22.54035626 23.42031237 10.17545169 25.60734821\n",
            " 28.81246774 19.79296828 13.25633987 25.72657142 25.69353498 24.74344374\n",
            " 23.71613474 28.04199298 16.7731534  22.47573732 36.67446004 20.84322064\n",
            " 38.29315128 25.99254184 22.47775507 16.23275762 31.74364037 20.80397322\n",
            " 27.39774245 14.37896064 32.60489109 12.78765107  1.20660832 19.44277125\n",
            " 15.3198648 ]\n",
            "3.627793423766998\n"
          ]
        }
      ],
      "source": [
        "predictionsLR = lr.predict(x_test)\n",
        "print(predictionsLR)\n",
        "print(mean_absolute_error(predictionsLR, y_test))"
      ]
    },
    {
      "cell_type": "code",
      "execution_count": null,
      "metadata": {
        "id": "lfwIZnblZpjs",
        "outputId": "9aa19645-e2d0-4fc0-a054-e74293c7e35e"
      },
      "outputs": [
        {
          "name": "stdout",
          "output_type": "stream",
          "text": [
            "[24.80360943 24.73539403 30.39780122 12.40553362 20.79803971 19.40388955\n",
            " 21.18214301 20.99565887 19.02426418 19.99879681  5.36368389 16.21808903\n",
            " 17.93509271  5.05178706 42.65517908 32.94679998 22.78240002 37.37457445\n",
            " 31.20174003 23.01044247 24.69486913 25.35061009 20.08583937 30.62107128\n",
            " 21.81051138 11.07453103 17.03360027 20.36448845 35.19824057 20.31916718\n",
            " 18.27284982 18.76847174 19.03135313 23.14224138 28.75382621 21.69617143\n",
            " 10.68363849 26.98612597 17.74210481 14.72099602 26.10056456 19.84916569\n",
            " 21.91301663 15.41364384 22.76364783 24.53280879 18.95001075 26.00977557\n",
            " 10.66191027 24.22559263 24.34162346 17.26895079 23.97355545 30.04081602\n",
            " 13.86711888 21.24051043 20.35188734 14.30903014 14.90674153 21.97960649\n",
            " 17.58350061 21.40501834 33.26780334 31.69113278 18.02957703 33.33149629\n",
            " 19.33748019 18.37075237 18.88335454 22.80962814 22.29273219 23.82481841\n",
            " 31.36615247 29.65358093 26.46411679  4.37177305 36.91933075 23.43689537\n",
            " 26.88842557 19.28277885 28.38138273 19.80757983 19.92098142 37.97843599\n",
            " 39.28449183 23.83591997 23.95139144 16.47125272 28.92955447 17.23660184\n",
            " 15.35345144 13.56670433 24.88286478 31.30510158 22.70984646 19.70141602\n",
            " -1.09785754 25.69690551 16.495135   16.91385925 25.30311944 21.93617518\n",
            " 33.11436621 21.45002413 26.78568496 23.25756215  6.33894917 16.14804659\n",
            " 22.68358492 29.14751686 34.6897971  12.26591112 18.99093941 20.4416618\n",
            " 10.26199203 23.62978758  4.50715273 20.7924859   9.17500061 46.37993665\n",
            " 31.18189923 12.38153468 16.2283475  21.57472331 23.68129086 20.45262611\n",
            " 34.9529936  12.12028666 20.57174537 36.36776843 19.99492569 13.11061825\n",
            " 14.82115649 23.60528837 14.95041732 31.60487394 24.89631094 17.26347691\n",
            " 24.04572436  8.92658585 14.68702373 21.08854614 32.66094855 27.9744676\n",
            " 25.89569931 14.81189007 31.95171899 27.48050047 14.40779708  6.85560663\n",
            " 28.97770129 24.85020118  3.15606911 28.28244339 17.55791732 30.12092268\n",
            " 20.44845347 14.78480654 16.84078494 11.35501902  8.94725034 18.96980365\n",
            " 34.46004328 32.96842324 22.57718043 18.89945274 22.71558388 26.42051847\n",
            " 23.86382597 17.72554648 32.46187602 10.2163413  20.40701641 34.9107136\n",
            " 19.38228908 15.89505368 18.55025052 13.71141012 25.4016886  23.61476089\n",
            " 17.55884853 14.4341073  19.83871804 25.84136004 16.14916476 25.0405114\n",
            " 21.97913023 28.36449657 35.62573288 17.72175034 12.29031291 35.32577188\n",
            " 30.76851696 20.56166999 40.64503844 29.68043111 28.88412922 18.32806256\n",
            " 27.46791625 41.04941881 29.11855242 16.51433547 38.3742006  35.73870881\n",
            " 14.36989242 30.4268908  23.77652602 24.28200247 22.13578496 24.5854704\n",
            " 27.33370895 30.23572047 15.2516453  26.0632625  23.09565087 12.85143665\n",
            " 13.43106257 25.4470241  20.14147533 30.53691959 10.75599764 22.93398948\n",
            " 16.30689294 19.02189782 22.57467388 24.12339572 10.24179527 25.35659961\n",
            " 28.72254404 19.6650311  13.439987   25.6945071  25.67835821 25.22030606\n",
            " 23.58007161 27.58674908 17.21749038 22.29407326 36.99504245 20.48949987\n",
            " 38.91248014 26.25209354 22.90996692 16.31019155 31.71964715 21.18912978\n",
            " 27.25051193 13.88869882 32.56969078 12.79231805  0.23770741 19.38262706\n",
            " 14.66214473]\n",
            "3.6190067982550556\n"
          ]
        }
      ],
      "source": [
        "predictionsR = ridge.predict(x_test)\n",
        "print(predictionsR)\n",
        "print(mean_absolute_error(predictionsR,y_test))"
      ]
    },
    {
      "cell_type": "code",
      "execution_count": null,
      "metadata": {
        "id": "PY5szl_ZZpjt"
      },
      "outputs": [],
      "source": []
    }
  ],
  "metadata": {
    "kernelspec": {
      "display_name": "Python 3",
      "language": "python",
      "name": "python3"
    },
    "language_info": {
      "codemirror_mode": {
        "name": "ipython",
        "version": 3
      },
      "file_extension": ".py",
      "mimetype": "text/x-python",
      "name": "python",
      "nbconvert_exporter": "python",
      "pygments_lexer": "ipython3",
      "version": "3.7.7"
    },
    "colab": {
      "provenance": []
    }
  },
  "nbformat": 4,
  "nbformat_minor": 0
}